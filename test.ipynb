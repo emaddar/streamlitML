{
 "cells": [
  {
   "cell_type": "code",
   "execution_count": 26,
   "metadata": {},
   "outputs": [],
   "source": [
    "import requests\n",
    "all = requests.get('https://ressources.data.sncf.com/api/records/1.0/search/?dataset=objets-trouves-restitution&q=&lang=fr&rows=-1&sort=date&facet=date&facet=gc_obo_date_heure_restitution_c&facet=gc_obo_gare_origine_r_name&facet=gc_obo_nature_c&facet=gc_obo_type_c&facet=gc_obo_nom_recordtype_sc_c')\n"
   ]
  },
  {
   "cell_type": "code",
   "execution_count": 31,
   "metadata": {},
   "outputs": [],
   "source": [
    "data = all.json()"
   ]
  },
  {
   "cell_type": "code",
   "execution_count": 55,
   "metadata": {},
   "outputs": [
    {
     "name": "stdout",
     "output_type": "stream",
     "text": [
      "Lyon Perrache\n",
      "Maubeuge\n",
      "Paris Saint-Lazare\n",
      "Grenoble\n",
      "Massy TGV\n",
      "Paris Est\n",
      "Grenoble\n",
      "Paris Gare de Lyon\n",
      "Aix-en-Provence TGV\n",
      "Valence\n",
      "Hendaye\n",
      "Lyon Perrache\n",
      "Paris Gare de Lyon\n",
      "Lyon Perrache\n",
      "Cherbourg\n",
      "Angers Saint-Laud\n",
      "Paris Gare du Nord\n",
      "Lyon Perrache\n",
      "Paris Saint-Lazare\n",
      "Cherbourg\n",
      "Lyon Perrache\n",
      "Montpellier Saint-Roch\n",
      "Cherbourg\n",
      "Cherbourg\n",
      "Lyon Perrache\n",
      "Paris Montparnasse\n",
      "Montpellier Saint-Roch\n",
      "Bayonne\n",
      "Montpellier Saint-Roch\n",
      "Montpellier Saint-Roch\n",
      "Lyon Perrache\n",
      "Lyon Perrache\n",
      "Montpellier Saint-Roch\n",
      "Paris Gare du Nord\n",
      "Paris Est\n",
      "Perpignan\n",
      "Montauban Ville Bourbon\n",
      "Montauban Ville Bourbon\n",
      "Châteauroux\n",
      "Strasbourg\n",
      "Perpignan\n",
      "Clermont-Ferrand\n",
      "Le Havre\n",
      "Perpignan\n",
      "Paris Est\n",
      "Lille Europe\n",
      "Avignon TGV\n",
      "Laroche - Migennes\n",
      "Strasbourg\n",
      "Lille Europe\n",
      "Paris Est\n",
      "Lille Europe\n",
      "Laroche - Migennes\n",
      "Brive-la-Gaillarde\n",
      "Montpellier Sud de France\n",
      "Beauvais\n",
      "Strasbourg\n",
      "Montpellier Sud de France\n",
      "Clermont-Ferrand\n",
      "Lille Europe\n",
      "Épinal\n",
      "Montpellier Sud de France\n",
      "Paris Gare de Lyon\n",
      "Clermont-Ferrand\n",
      "Strasbourg\n",
      "Beauvais\n",
      "Carcassonne\n",
      "Massy TGV\n",
      "Strasbourg\n",
      "Laval\n",
      "Lille Europe\n",
      "Paris Gare de Lyon\n",
      "Annecy\n",
      "Paris Gare de Lyon\n",
      "Annecy\n",
      "Annecy\n",
      "Évian-les-Bains\n",
      "Évian-les-Bains\n",
      "Quimper\n",
      "Haguenau\n",
      "Quimper\n",
      "Nancy\n",
      "Metz Ville\n",
      "Nancy\n",
      "Metz Ville\n",
      "Nice\n",
      "Nice\n",
      "Nice\n",
      "Belfort - Montbéliard TGV\n",
      "Paris Montparnasse\n",
      "Paris Montparnasse\n",
      "Paris Montparnasse\n",
      "Dijon\n",
      "Paris Montparnasse\n",
      "Dijon\n",
      "Orléans\n",
      "Ambérieu-en-Bugey\n",
      "Dijon\n",
      "Paris Montparnasse\n",
      "La Rochelle\n"
     ]
    }
   ],
   "source": [
    "for i in range(100):\n",
    "    print(data['records'][i]['fields']['gc_obo_gare_origine_r_name'])\n"
   ]
  },
  {
   "cell_type": "code",
   "execution_count": null,
   "metadata": {},
   "outputs": [],
   "source": []
  },
  {
   "cell_type": "code",
   "execution_count": 18,
   "metadata": {},
   "outputs": [
    {
     "data": {
      "text/plain": [
       "<Response [401]>"
      ]
     },
     "execution_count": 18,
     "metadata": {},
     "output_type": "execute_result"
    }
   ],
   "source": [
    "requests.get(\n",
    "        ('https://api.sncf.com/v1/coverage/sncf/stop_areas?start_page=1'))"
   ]
  }
 ],
 "metadata": {
  "kernelspec": {
   "display_name": "Python 3",
   "language": "python",
   "name": "python3"
  },
  "language_info": {
   "codemirror_mode": {
    "name": "ipython",
    "version": 3
   },
   "file_extension": ".py",
   "mimetype": "text/x-python",
   "name": "python",
   "nbconvert_exporter": "python",
   "pygments_lexer": "ipython3",
   "version": "3.10.6"
  },
  "orig_nbformat": 4,
  "vscode": {
   "interpreter": {
    "hash": "916dbcbb3f70747c44a77c7bcd40155683ae19c65e1c03b4aa3499c5328201f1"
   }
  }
 },
 "nbformat": 4,
 "nbformat_minor": 2
}
