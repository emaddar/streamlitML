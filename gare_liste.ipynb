{
 "cells": [
  {
   "cell_type": "code",
   "execution_count": 52,
   "metadata": {},
   "outputs": [],
   "source": [
    "import  requests\n",
    "liste_gares = requests.get('https://e28b12af89ada22a888d2c8ad5c631cce1450d3a91a62d444ab243b2@api.sncf.com/v1/coverage/sncf/stop_areas')\n"
   ]
  },
  {
   "cell_type": "code",
   "execution_count": 53,
   "metadata": {},
   "outputs": [
    {
     "name": "stdout",
     "output_type": "stream",
     "text": [
      "<Response [401]>\n"
     ]
    }
   ],
   "source": [
    "\n",
    "print(liste_gares)"
   ]
  },
  {
   "cell_type": "code",
   "execution_count": 49,
   "metadata": {},
   "outputs": [
    {
     "ename": "KeyError",
     "evalue": "'records'",
     "output_type": "error",
     "traceback": [
      "\u001b[0;31m---------------------------------------------------------------------------\u001b[0m",
      "\u001b[0;31mKeyError\u001b[0m                                  Traceback (most recent call last)",
      "\u001b[1;32m/home/apprenant/Documents/MyLearning/Python/streamlitML/gare_liste.ipynb Cellule 3\u001b[0m in \u001b[0;36m<cell line: 1>\u001b[0;34m()\u001b[0m\n\u001b[0;32m----> <a href='vscode-notebook-cell:/home/apprenant/Documents/MyLearning/Python/streamlitML/gare_liste.ipynb#W2sZmlsZQ%3D%3D?line=0'>1</a>\u001b[0m \u001b[39mfor\u001b[39;00m i \u001b[39min\u001b[39;00m \u001b[39mrange\u001b[39m(\u001b[39mlen\u001b[39m(liste_gares[\u001b[39m'\u001b[39;49m\u001b[39mrecords\u001b[39;49m\u001b[39m'\u001b[39;49m])):\n\u001b[1;32m      <a href='vscode-notebook-cell:/home/apprenant/Documents/MyLearning/Python/streamlitML/gare_liste.ipynb#W2sZmlsZQ%3D%3D?line=1'>2</a>\u001b[0m     \u001b[39mprint\u001b[39m(liste_gares[\u001b[39m'\u001b[39m\u001b[39mrecords\u001b[39m\u001b[39m'\u001b[39m][i][\u001b[39m'\u001b[39m\u001b[39mfields\u001b[39m\u001b[39m'\u001b[39m][\u001b[39m'\u001b[39m\u001b[39muic_code\u001b[39m\u001b[39m'\u001b[39m] \u001b[39m+\u001b[39m \u001b[39m\"\u001b[39m\u001b[39m \u001b[39m\u001b[39m\"\u001b[39m \u001b[39m+\u001b[39m liste_gares[\u001b[39m'\u001b[39m\u001b[39mrecords\u001b[39m\u001b[39m'\u001b[39m][i][\u001b[39m'\u001b[39m\u001b[39mfields\u001b[39m\u001b[39m'\u001b[39m][\u001b[39m'\u001b[39m\u001b[39mgare_alias_libelle_fronton\u001b[39m\u001b[39m'\u001b[39m])\n",
      "\u001b[0;31mKeyError\u001b[0m: 'records'"
     ]
    }
   ],
   "source": [
    "for i in range(len(liste_gares['records'])):\n",
    "    print(liste_gares['records'][i]['fields']['uic_code'] + \" \" + liste_gares['records'][i]['fields']['gare_alias_libelle_fronton'])"
   ]
  },
  {
   "cell_type": "code",
   "execution_count": null,
   "metadata": {},
   "outputs": [],
   "source": [
    "i = range(2016,2022)\n",
    "for j in i:\n",
    "    print(j)"
   ]
  },
  {
   "cell_type": "code",
   "execution_count": 34,
   "metadata": {},
   "outputs": [],
   "source": [
    "import urllib.parse\n",
    "import urllib.request\n",
    "import json\n",
    "import time\n",
    "import matplotlib.pyplot as plt\n",
    "import pandas as pd\n",
    "import os\n",
    "from datetime import datetime,timedelta\n",
    "\n",
    "# https://stackoverflow.com/questions/72186562/getting-weather-data-for-all-locations-in-us-in-python\n",
    "def getWeatherForecast(LOCATION, startdate, enddate):\n",
    "   now = datetime.now()\n",
    "   # startdate = (datetime.now() - timedelta(2)).strftime('%Y-%m-%d')\n",
    "   # enddate = (datetime.now() - timedelta(1)).strftime('%Y-%m-%d')\n",
    "   # LOCATION =  [\"Lille\"]\n",
    "   try:\n",
    "       for i in LOCATION:\n",
    "           requestUrl = \"https://weather.visualcrossing.com/VisualCrossingWebServices/rest/services/timeline/\"+i+\"/\"+startdate+\"/\"+enddate+\"?unitGroup=metric&include=days&key=ZUVQJ5N739599C7DZR823CQD8&contentType=json\"\n",
    "           print('Weather requestUrl={requestUrl}'.format(requestUrl=requestUrl))\n",
    "           req = urllib.request.urlopen(requestUrl)\n",
    "           rawForecastData = req.read()\n",
    "           req.close()\n",
    "           d = json.loads(rawForecastData)\n",
    "           time.sleep(5)\n",
    "   except:\n",
    "      pass\n",
    "   return d\n",
    "\n"
   ]
  },
  {
   "cell_type": "code",
   "execution_count": 45,
   "metadata": {},
   "outputs": [
    {
     "name": "stdout",
     "output_type": "stream",
     "text": [
      "Weather requestUrl=https://weather.visualcrossing.com/VisualCrossingWebServices/rest/services/timeline/Lille/2022-01-01/2022-12-19?unitGroup=metric&include=days&key=ZUVQJ5N739599C7DZR823CQD8&contentType=json\n"
     ]
    }
   ],
   "source": [
    "start_date = \"2022-01-01\"\n",
    "end_date = \"2022-12-19\"\n",
    "wheather_Lille = getWeatherForecast([\"Lille\"], start_date , end_date)\n"
   ]
  },
  {
   "cell_type": "code",
   "execution_count": 46,
   "metadata": {},
   "outputs": [
    {
     "name": "stdout",
     "output_type": "stream",
     "text": [
      "2022-01-01 rain\n",
      "2022-01-02 rain\n",
      "2022-01-03 rain\n",
      "2022-01-04 rain\n",
      "2022-01-05 rain\n",
      "2022-01-06 rain\n",
      "2022-01-07 rain\n",
      "2022-01-08 rain\n",
      "2022-01-09 rain\n",
      "2022-01-10 rain\n",
      "2022-01-11 partly-cloudy-day\n",
      "2022-01-12 rain\n",
      "2022-01-13 rain\n",
      "2022-01-14 rain\n",
      "2022-01-15 rain\n",
      "2022-01-16 rain\n",
      "2022-01-17 rain\n",
      "2022-01-18 cloudy\n",
      "2022-01-19 rain\n",
      "2022-01-20 rain\n",
      "2022-01-21 rain\n",
      "2022-01-22 cloudy\n",
      "2022-01-23 cloudy\n",
      "2022-01-24 partly-cloudy-day\n",
      "2022-01-25 rain\n",
      "2022-01-26 cloudy\n",
      "2022-01-27 rain\n",
      "2022-01-28 rain\n",
      "2022-01-29 rain\n",
      "2022-01-30 partly-cloudy-day\n",
      "2022-01-31 rain\n",
      "2022-02-01 rain\n",
      "2022-02-02 rain\n",
      "2022-02-03 rain\n",
      "2022-02-04 rain\n",
      "2022-02-05 partly-cloudy-day\n",
      "2022-02-06 rain\n",
      "2022-02-07 rain\n",
      "2022-02-08 rain\n",
      "2022-02-09 rain\n",
      "2022-02-10 rain\n",
      "2022-02-11 rain\n",
      "2022-02-12 rain\n",
      "2022-02-13 rain\n",
      "2022-02-14 rain\n",
      "2022-02-15 rain\n",
      "2022-02-16 rain\n",
      "2022-02-17 rain\n",
      "2022-02-18 rain\n",
      "2022-02-19 rain\n",
      "2022-02-20 rain\n",
      "2022-02-21 rain\n",
      "2022-02-22 rain\n",
      "2022-02-23 rain\n",
      "2022-02-24 rain\n",
      "2022-02-25 rain\n",
      "2022-02-26 clear-day\n",
      "2022-02-27 clear-day\n",
      "2022-02-28 clear-day\n",
      "2022-03-01 rain\n",
      "2022-03-02 rain\n",
      "2022-03-03 rain\n",
      "2022-03-04 partly-cloudy-day\n",
      "2022-03-05 partly-cloudy-day\n",
      "2022-03-06 clear-day\n",
      "2022-03-07 clear-day\n",
      "2022-03-08 clear-day\n",
      "2022-03-09 clear-day\n",
      "2022-03-10 clear-day\n",
      "2022-03-11 rain\n",
      "2022-03-12 rain\n",
      "2022-03-13 rain\n",
      "2022-03-14 rain\n",
      "2022-03-15 rain\n",
      "2022-03-16 partly-cloudy-day\n",
      "2022-03-17 rain\n",
      "2022-03-18 rain\n",
      "2022-03-19 clear-day\n",
      "2022-03-20 rain\n",
      "2022-03-21 clear-day\n",
      "2022-03-22 clear-day\n",
      "2022-03-23 clear-day\n",
      "2022-03-24 clear-day\n",
      "2022-03-25 clear-day\n",
      "2022-03-26 clear-day\n",
      "2022-03-27 partly-cloudy-day\n",
      "2022-03-28 rain\n",
      "2022-03-29 partly-cloudy-day\n",
      "2022-03-30 rain\n",
      "2022-03-31 snow\n",
      "2022-04-01 snow\n",
      "2022-04-02 rain\n",
      "2022-04-03 rain\n",
      "2022-04-04 rain\n",
      "2022-04-05 rain\n",
      "2022-04-06 rain\n",
      "2022-04-07 rain\n",
      "2022-04-08 rain\n",
      "2022-04-09 rain\n",
      "2022-04-10 rain\n"
     ]
    }
   ],
   "source": [
    "for i in range(100) : # test for 2 days for Lille\n",
    "    print(wheather_Lille['days'][i]['datetime'] + \" \" + wheather_Lille['days'][i]['icon'])"
   ]
  },
  {
   "cell_type": "code",
   "execution_count": null,
   "metadata": {},
   "outputs": [],
   "source": []
  }
 ],
 "metadata": {
  "kernelspec": {
   "display_name": "Python 3",
   "language": "python",
   "name": "python3"
  },
  "language_info": {
   "codemirror_mode": {
    "name": "ipython",
    "version": 3
   },
   "file_extension": ".py",
   "mimetype": "text/x-python",
   "name": "python",
   "nbconvert_exporter": "python",
   "pygments_lexer": "ipython3",
   "version": "3.10.6 (main, Nov  2 2022, 18:53:38) [GCC 11.3.0]"
  },
  "orig_nbformat": 4,
  "vscode": {
   "interpreter": {
    "hash": "916dbcbb3f70747c44a77c7bcd40155683ae19c65e1c03b4aa3499c5328201f1"
   }
  }
 },
 "nbformat": 4,
 "nbformat_minor": 2
}
